{
 "cells": [
  {
   "cell_type": "code",
   "execution_count": 2,
   "metadata": {},
   "outputs": [
    {
     "name": "stderr",
     "output_type": "stream",
     "text": [
      "100%|██████████| 13/13 [00:00<00:00, 69.67it/s]\n"
     ]
    }
   ],
   "source": [
    "from PIL import Image\n",
    "import os\n",
    "from tqdm import tqdm\n",
    "\n",
    "target = './images/people'\n",
    "\n",
    "for file in tqdm(os.listdir(target)):\n",
    "    if file.endswith('.jpeg') or file.endswith('.png'):\n",
    "        img = Image.open(os.path.join(target, file)).convert('RGB')\n",
    "        # crop the image to the center\n",
    "        width, height = img.size\n",
    "        if width == height and file.endswith('.jpeg'):\n",
    "            continue\n",
    "        \n",
    "        left, top, right, bottom = 0, 0, width, height\n",
    "        if width > height:\n",
    "            left = (width - height) // 2\n",
    "            top = 0\n",
    "            right = left + height\n",
    "            bottom = height\n",
    "        elif width < height:\n",
    "            left = 0\n",
    "            top = (height - width) // 2\n",
    "            right = width\n",
    "            bottom = top + width\n",
    "        img = img.crop((left, top, right, bottom))\n",
    "        file = file.split('.')[0] + '.jpeg'\n",
    "        img.save(os.path.join(target, file))\n",
    "\n"
   ]
  }
 ],
 "metadata": {
  "kernelspec": {
   "display_name": "base",
   "language": "python",
   "name": "python3"
  },
  "language_info": {
   "codemirror_mode": {
    "name": "ipython",
    "version": 3
   },
   "file_extension": ".py",
   "mimetype": "text/x-python",
   "name": "python",
   "nbconvert_exporter": "python",
   "pygments_lexer": "ipython3",
   "version": "3.8.8"
  }
 },
 "nbformat": 4,
 "nbformat_minor": 2
}
